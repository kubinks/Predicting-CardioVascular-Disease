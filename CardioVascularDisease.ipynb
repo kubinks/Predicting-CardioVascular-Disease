{
 "cells": [
  {
   "cell_type": "markdown",
   "metadata": {},
   "source": [
    "# Prediction of being at risk of having CardioVascular Disease"
   ]
  },
  {
   "cell_type": "markdown",
   "metadata": {},
   "source": [
    "\n",
    "Citation:\n",
    "1.\tLicense:\tUnknown\n",
    "2.\tDomain:\tPublic\n",
    "3.\tDataset owner:\tSvetlana Ulianova\n",
    "4.\tDate created:\t2019-01-20\n",
    "\n",
    "Features:\n",
    "1.\tAge | Objective Feature | age | int (days)\n",
    "2.\tHeight | Objective Feature | height | int (cm) |\n",
    "3.\tWeight | Objective Feature | weight | float (kg) |\n",
    "4.\tGender | Objective Feature | gender | categorical code |\n",
    "5.\tSystolic blood pressure | Examination Feature | ap_hi | int |\n",
    "6.\tDiastolic blood pressure | Examination Feature | ap_lo | int |\n",
    "7.\tCholesterol | Examination Feature | cholesterol | 1: normal, 2: above normal, 3: well above normal |\n",
    "8.\tGlucose | Examination Feature | gluc | 1: normal, 2: above normal, 3: well above normal |\n",
    "9.\tSmoking | Subjective Feature | smoke | binary |\n",
    "10.\tAlcohol intake | Subjective Feature | alco | binary |\n",
    "11.\tPhysical activity | Subjective Feature | active | binary |\n",
    "12.\tPresence or absence of cardiovascular disease | Target Variable | cardio | binary |\n"
   ]
  },
  {
   "cell_type": "code",
   "execution_count": 1,
   "metadata": {},
   "outputs": [],
   "source": [
    "import pandas as pd\n",
    "import matplotlib.pyplot as plt\n",
    "import seaborn as sns\n",
    "import numpy as np\n",
    "from sklearn.model_selection import train_test_split, GridSearchCV\n",
    "from sklearn.ensemble import RandomForestClassifier\n",
    "from sklearn.metrics import confusion_matrix"
   ]
  },
  {
   "cell_type": "code",
   "execution_count": 2,
   "metadata": {},
   "outputs": [],
   "source": [
    "# Loading the data\n",
    "df = pd.read_csv('cardio_train.csv', sep=';', usecols=range(1,13))"
   ]
  },
  {
   "cell_type": "code",
   "execution_count": 3,
   "metadata": {},
   "outputs": [
    {
     "data": {
      "text/html": [
       "<div>\n",
       "<style scoped>\n",
       "    .dataframe tbody tr th:only-of-type {\n",
       "        vertical-align: middle;\n",
       "    }\n",
       "\n",
       "    .dataframe tbody tr th {\n",
       "        vertical-align: top;\n",
       "    }\n",
       "\n",
       "    .dataframe thead th {\n",
       "        text-align: right;\n",
       "    }\n",
       "</style>\n",
       "<table border=\"1\" class=\"dataframe\">\n",
       "  <thead>\n",
       "    <tr style=\"text-align: right;\">\n",
       "      <th></th>\n",
       "      <th>age</th>\n",
       "      <th>gender</th>\n",
       "      <th>height</th>\n",
       "      <th>weight</th>\n",
       "      <th>ap_hi</th>\n",
       "      <th>ap_lo</th>\n",
       "      <th>cholesterol</th>\n",
       "      <th>gluc</th>\n",
       "      <th>smoke</th>\n",
       "      <th>alco</th>\n",
       "      <th>active</th>\n",
       "      <th>cardio</th>\n",
       "    </tr>\n",
       "  </thead>\n",
       "  <tbody>\n",
       "    <tr>\n",
       "      <th>0</th>\n",
       "      <td>22469</td>\n",
       "      <td>1</td>\n",
       "      <td>155</td>\n",
       "      <td>69.0</td>\n",
       "      <td>130</td>\n",
       "      <td>80</td>\n",
       "      <td>2</td>\n",
       "      <td>2</td>\n",
       "      <td>0</td>\n",
       "      <td>0</td>\n",
       "      <td>1</td>\n",
       "      <td>0</td>\n",
       "    </tr>\n",
       "    <tr>\n",
       "      <th>1</th>\n",
       "      <td>14648</td>\n",
       "      <td>1</td>\n",
       "      <td>163</td>\n",
       "      <td>71.0</td>\n",
       "      <td>110</td>\n",
       "      <td>70</td>\n",
       "      <td>1</td>\n",
       "      <td>1</td>\n",
       "      <td>0</td>\n",
       "      <td>0</td>\n",
       "      <td>1</td>\n",
       "      <td>1</td>\n",
       "    </tr>\n",
       "    <tr>\n",
       "      <th>2</th>\n",
       "      <td>21901</td>\n",
       "      <td>1</td>\n",
       "      <td>165</td>\n",
       "      <td>70.0</td>\n",
       "      <td>120</td>\n",
       "      <td>80</td>\n",
       "      <td>1</td>\n",
       "      <td>1</td>\n",
       "      <td>0</td>\n",
       "      <td>0</td>\n",
       "      <td>1</td>\n",
       "      <td>0</td>\n",
       "    </tr>\n",
       "    <tr>\n",
       "      <th>3</th>\n",
       "      <td>14549</td>\n",
       "      <td>2</td>\n",
       "      <td>165</td>\n",
       "      <td>85.0</td>\n",
       "      <td>120</td>\n",
       "      <td>80</td>\n",
       "      <td>1</td>\n",
       "      <td>1</td>\n",
       "      <td>1</td>\n",
       "      <td>1</td>\n",
       "      <td>1</td>\n",
       "      <td>0</td>\n",
       "    </tr>\n",
       "    <tr>\n",
       "      <th>4</th>\n",
       "      <td>23393</td>\n",
       "      <td>1</td>\n",
       "      <td>155</td>\n",
       "      <td>62.0</td>\n",
       "      <td>120</td>\n",
       "      <td>80</td>\n",
       "      <td>1</td>\n",
       "      <td>1</td>\n",
       "      <td>0</td>\n",
       "      <td>0</td>\n",
       "      <td>1</td>\n",
       "      <td>0</td>\n",
       "    </tr>\n",
       "  </tbody>\n",
       "</table>\n",
       "</div>"
      ],
      "text/plain": [
       "     age  gender  height  weight  ap_hi  ap_lo  cholesterol  gluc  smoke  \\\n",
       "0  22469       1     155    69.0    130     80            2     2      0   \n",
       "1  14648       1     163    71.0    110     70            1     1      0   \n",
       "2  21901       1     165    70.0    120     80            1     1      0   \n",
       "3  14549       2     165    85.0    120     80            1     1      1   \n",
       "4  23393       1     155    62.0    120     80            1     1      0   \n",
       "\n",
       "   alco  active  cardio  \n",
       "0     0       1       0  \n",
       "1     0       1       1  \n",
       "2     0       1       0  \n",
       "3     1       1       0  \n",
       "4     0       1       0  "
      ]
     },
     "execution_count": 3,
     "metadata": {},
     "output_type": "execute_result"
    }
   ],
   "source": [
    "# Viewing the first 5 rows of data\n",
    "df.head(5)"
   ]
  },
  {
   "cell_type": "code",
   "execution_count": 4,
   "metadata": {},
   "outputs": [
    {
     "data": {
      "text/plain": [
       "(69301, 12)"
      ]
     },
     "execution_count": 4,
     "metadata": {},
     "output_type": "execute_result"
    }
   ],
   "source": [
    "# Getting to know the shape, therefore size of our data\n",
    "df.shape"
   ]
  },
  {
   "cell_type": "code",
   "execution_count": 5,
   "metadata": {},
   "outputs": [
    {
     "data": {
      "text/plain": [
       "age              int64\n",
       "gender           int64\n",
       "height           int64\n",
       "weight         float64\n",
       "ap_hi            int64\n",
       "ap_lo            int64\n",
       "cholesterol      int64\n",
       "gluc             int64\n",
       "smoke            int64\n",
       "alco             int64\n",
       "active           int64\n",
       "cardio           int64\n",
       "dtype: object"
      ]
     },
     "execution_count": 5,
     "metadata": {},
     "output_type": "execute_result"
    }
   ],
   "source": [
    "# Checking for types of values in particular columns\n",
    "df.dtypes"
   ]
  },
  {
   "cell_type": "code",
   "execution_count": 6,
   "metadata": {},
   "outputs": [
    {
     "data": {
      "text/plain": [
       "False"
      ]
     },
     "execution_count": 6,
     "metadata": {},
     "output_type": "execute_result"
    }
   ],
   "source": [
    "# Looking for any empty places in data\n",
    "df.isnull().values.any()"
   ]
  },
  {
   "cell_type": "code",
   "execution_count": 7,
   "metadata": {
    "scrolled": false
   },
   "outputs": [
    {
     "data": {
      "text/html": [
       "<div>\n",
       "<style scoped>\n",
       "    .dataframe tbody tr th:only-of-type {\n",
       "        vertical-align: middle;\n",
       "    }\n",
       "\n",
       "    .dataframe tbody tr th {\n",
       "        vertical-align: top;\n",
       "    }\n",
       "\n",
       "    .dataframe thead th {\n",
       "        text-align: right;\n",
       "    }\n",
       "</style>\n",
       "<table border=\"1\" class=\"dataframe\">\n",
       "  <thead>\n",
       "    <tr style=\"text-align: right;\">\n",
       "      <th></th>\n",
       "      <th>age</th>\n",
       "      <th>gender</th>\n",
       "      <th>height</th>\n",
       "      <th>weight</th>\n",
       "      <th>ap_hi</th>\n",
       "      <th>ap_lo</th>\n",
       "      <th>cholesterol</th>\n",
       "      <th>gluc</th>\n",
       "      <th>smoke</th>\n",
       "      <th>alco</th>\n",
       "      <th>active</th>\n",
       "      <th>cardio</th>\n",
       "    </tr>\n",
       "  </thead>\n",
       "  <tbody>\n",
       "    <tr>\n",
       "      <th>count</th>\n",
       "      <td>69301.000000</td>\n",
       "      <td>69301.000000</td>\n",
       "      <td>69301.000000</td>\n",
       "      <td>69301.000000</td>\n",
       "      <td>69301.000000</td>\n",
       "      <td>69301.000000</td>\n",
       "      <td>69301.000000</td>\n",
       "      <td>69301.000000</td>\n",
       "      <td>69301.000000</td>\n",
       "      <td>69301.000000</td>\n",
       "      <td>69301.000000</td>\n",
       "      <td>69301.000000</td>\n",
       "    </tr>\n",
       "    <tr>\n",
       "      <th>mean</th>\n",
       "      <td>19468.786280</td>\n",
       "      <td>1.349519</td>\n",
       "      <td>164.362217</td>\n",
       "      <td>74.203027</td>\n",
       "      <td>128.829584</td>\n",
       "      <td>96.650092</td>\n",
       "      <td>1.366806</td>\n",
       "      <td>1.226447</td>\n",
       "      <td>0.088051</td>\n",
       "      <td>0.053881</td>\n",
       "      <td>0.803986</td>\n",
       "      <td>0.499589</td>\n",
       "    </tr>\n",
       "    <tr>\n",
       "      <th>std</th>\n",
       "      <td>2467.261818</td>\n",
       "      <td>0.476821</td>\n",
       "      <td>8.205337</td>\n",
       "      <td>14.383469</td>\n",
       "      <td>154.775805</td>\n",
       "      <td>189.096240</td>\n",
       "      <td>0.680270</td>\n",
       "      <td>0.572246</td>\n",
       "      <td>0.283371</td>\n",
       "      <td>0.225784</td>\n",
       "      <td>0.396982</td>\n",
       "      <td>0.500003</td>\n",
       "    </tr>\n",
       "    <tr>\n",
       "      <th>min</th>\n",
       "      <td>10798.000000</td>\n",
       "      <td>1.000000</td>\n",
       "      <td>55.000000</td>\n",
       "      <td>10.000000</td>\n",
       "      <td>-150.000000</td>\n",
       "      <td>-70.000000</td>\n",
       "      <td>1.000000</td>\n",
       "      <td>1.000000</td>\n",
       "      <td>0.000000</td>\n",
       "      <td>0.000000</td>\n",
       "      <td>0.000000</td>\n",
       "      <td>0.000000</td>\n",
       "    </tr>\n",
       "    <tr>\n",
       "      <th>25%</th>\n",
       "      <td>17664.000000</td>\n",
       "      <td>1.000000</td>\n",
       "      <td>159.000000</td>\n",
       "      <td>65.000000</td>\n",
       "      <td>120.000000</td>\n",
       "      <td>80.000000</td>\n",
       "      <td>1.000000</td>\n",
       "      <td>1.000000</td>\n",
       "      <td>0.000000</td>\n",
       "      <td>0.000000</td>\n",
       "      <td>1.000000</td>\n",
       "      <td>0.000000</td>\n",
       "    </tr>\n",
       "    <tr>\n",
       "      <th>50%</th>\n",
       "      <td>19704.000000</td>\n",
       "      <td>1.000000</td>\n",
       "      <td>165.000000</td>\n",
       "      <td>72.000000</td>\n",
       "      <td>120.000000</td>\n",
       "      <td>80.000000</td>\n",
       "      <td>1.000000</td>\n",
       "      <td>1.000000</td>\n",
       "      <td>0.000000</td>\n",
       "      <td>0.000000</td>\n",
       "      <td>1.000000</td>\n",
       "      <td>0.000000</td>\n",
       "    </tr>\n",
       "    <tr>\n",
       "      <th>75%</th>\n",
       "      <td>21326.000000</td>\n",
       "      <td>2.000000</td>\n",
       "      <td>170.000000</td>\n",
       "      <td>82.000000</td>\n",
       "      <td>140.000000</td>\n",
       "      <td>90.000000</td>\n",
       "      <td>2.000000</td>\n",
       "      <td>1.000000</td>\n",
       "      <td>0.000000</td>\n",
       "      <td>0.000000</td>\n",
       "      <td>1.000000</td>\n",
       "      <td>1.000000</td>\n",
       "    </tr>\n",
       "    <tr>\n",
       "      <th>max</th>\n",
       "      <td>23713.000000</td>\n",
       "      <td>2.000000</td>\n",
       "      <td>250.000000</td>\n",
       "      <td>200.000000</td>\n",
       "      <td>16020.000000</td>\n",
       "      <td>11000.000000</td>\n",
       "      <td>3.000000</td>\n",
       "      <td>3.000000</td>\n",
       "      <td>1.000000</td>\n",
       "      <td>1.000000</td>\n",
       "      <td>1.000000</td>\n",
       "      <td>1.000000</td>\n",
       "    </tr>\n",
       "  </tbody>\n",
       "</table>\n",
       "</div>"
      ],
      "text/plain": [
       "                age        gender        height        weight         ap_hi  \\\n",
       "count  69301.000000  69301.000000  69301.000000  69301.000000  69301.000000   \n",
       "mean   19468.786280      1.349519    164.362217     74.203027    128.829584   \n",
       "std     2467.261818      0.476821      8.205337     14.383469    154.775805   \n",
       "min    10798.000000      1.000000     55.000000     10.000000   -150.000000   \n",
       "25%    17664.000000      1.000000    159.000000     65.000000    120.000000   \n",
       "50%    19704.000000      1.000000    165.000000     72.000000    120.000000   \n",
       "75%    21326.000000      2.000000    170.000000     82.000000    140.000000   \n",
       "max    23713.000000      2.000000    250.000000    200.000000  16020.000000   \n",
       "\n",
       "              ap_lo   cholesterol          gluc         smoke          alco  \\\n",
       "count  69301.000000  69301.000000  69301.000000  69301.000000  69301.000000   \n",
       "mean      96.650092      1.366806      1.226447      0.088051      0.053881   \n",
       "std      189.096240      0.680270      0.572246      0.283371      0.225784   \n",
       "min      -70.000000      1.000000      1.000000      0.000000      0.000000   \n",
       "25%       80.000000      1.000000      1.000000      0.000000      0.000000   \n",
       "50%       80.000000      1.000000      1.000000      0.000000      0.000000   \n",
       "75%       90.000000      2.000000      1.000000      0.000000      0.000000   \n",
       "max    11000.000000      3.000000      3.000000      1.000000      1.000000   \n",
       "\n",
       "             active        cardio  \n",
       "count  69301.000000  69301.000000  \n",
       "mean       0.803986      0.499589  \n",
       "std        0.396982      0.500003  \n",
       "min        0.000000      0.000000  \n",
       "25%        1.000000      0.000000  \n",
       "50%        1.000000      0.000000  \n",
       "75%        1.000000      1.000000  \n",
       "max        1.000000      1.000000  "
      ]
     },
     "execution_count": 7,
     "metadata": {},
     "output_type": "execute_result"
    }
   ],
   "source": [
    "# Getting rough statistical description of the whole data\n",
    "df.describe()"
   ]
  },
  {
   "cell_type": "markdown",
   "metadata": {},
   "source": [
    "- It seems like age is viable in terms of range -> 10798 days to 23713 days, approx 30 to 65 years old. Convert to years\n",
    "- Gender is mapped either to 1 or 2, it needs further examination to judge which digit means male/female\n",
    "- Height would need examination since min. value 55cm is suspiciously close to the shortest known human\n",
    "- Weight needs to be checked also, 10kg is possible though suspicious\n",
    "- Both pressures minimal values seem to bo mistakenly negative and maximum value is way to high\n",
    "- Rest of the data seems fine"
   ]
  },
  {
   "cell_type": "markdown",
   "metadata": {},
   "source": [
    "# Age"
   ]
  },
  {
   "cell_type": "markdown",
   "metadata": {},
   "source": [
    "Converting age to years"
   ]
  },
  {
   "cell_type": "code",
   "execution_count": 8,
   "metadata": {},
   "outputs": [],
   "source": [
    "df['age'] = df['age'].apply(lambda x: x/365.25)"
   ]
  },
  {
   "cell_type": "markdown",
   "metadata": {},
   "source": [
    "# Gender"
   ]
  },
  {
   "cell_type": "markdown",
   "metadata": {},
   "source": [
    "Looking for a correlation making it possible to assign number to a particular sex"
   ]
  },
  {
   "cell_type": "code",
   "execution_count": 9,
   "metadata": {
    "scrolled": false
   },
   "outputs": [
    {
     "data": {
      "image/png": "[encoded data removed]",
      "text/plain": [
       "<Figure size 432x288 with 1 Axes>"
      ]
     },
     "metadata": {
      "needs_background": "light"
     },
     "output_type": "display_data"
    }
   ],
   "source": [
    "sns.scatterplot(x=df['height'], y=df['weight'], hue=df['gender'], alpha=0.2)\n",
    "plt.show()"
   ]
  },
  {
   "cell_type": "code",
   "execution_count": 10,
   "metadata": {},
   "outputs": [
    {
     "data": {
      "text/html": [
       "<div>\n",
       "<style scoped>\n",
       "    .dataframe tbody tr th:only-of-type {\n",
       "        vertical-align: middle;\n",
       "    }\n",
       "\n",
       "    .dataframe tbody tr th {\n",
       "        vertical-align: top;\n",
       "    }\n",
       "\n",
       "    .dataframe thead th {\n",
       "        text-align: right;\n",
       "    }\n",
       "</style>\n",
       "<table border=\"1\" class=\"dataframe\">\n",
       "  <thead>\n",
       "    <tr style=\"text-align: right;\">\n",
       "      <th></th>\n",
       "      <th>age</th>\n",
       "      <th>gender</th>\n",
       "      <th>height</th>\n",
       "      <th>weight</th>\n",
       "      <th>ap_hi</th>\n",
       "      <th>ap_lo</th>\n",
       "      <th>cholesterol</th>\n",
       "      <th>gluc</th>\n",
       "      <th>smoke</th>\n",
       "      <th>alco</th>\n",
       "      <th>active</th>\n",
       "      <th>cardio</th>\n",
       "    </tr>\n",
       "  </thead>\n",
       "  <tbody>\n",
       "  </tbody>\n",
       "</table>\n",
       "</div>"
      ],
      "text/plain": [
       "Empty DataFrame\n",
       "Columns: [age, gender, height, weight, ap_hi, ap_lo, cholesterol, gluc, smoke, alco, active, cardio]\n",
       "Index: []"
      ]
     },
     "execution_count": 10,
     "metadata": {},
     "output_type": "execute_result"
    }
   ],
   "source": [
    "df[df['gender']==0]"
   ]
  },
  {
   "cell_type": "markdown",
   "metadata": {},
   "source": [
    "gender 0 from the legend must be some mistake in seaborn"
   ]
  },
  {
   "cell_type": "markdown",
   "metadata": {},
   "source": [
    "Above plot makes it possible to conclude that, being minimally finer, women are presented as \"1\".<br>\n",
    "To be sure lets confirm this, plotting the distribution of weight and height for particular groups."
   ]
  },
  {
   "cell_type": "code",
   "execution_count": 11,
   "metadata": {
    "scrolled": true
   },
   "outputs": [
    {
     "data": {
      "image/png": "[encoded data removed]",
      "text/plain": [
       "<Figure size 432x288 with 1 Axes>"
      ]
     },
     "metadata": {
      "needs_background": "light"
     },
     "output_type": "display_data"
    }
   ],
   "source": [
    "import warnings\n",
    "warnings.filterwarnings('ignore')\n",
    "sns.kdeplot(df['height'][df['gender']==1], label='height1', c='r', linestyle='--')\n",
    "sns.kdeplot(df['height'][df['gender']==2], label='height2', c='b', linestyle='--')\n",
    "sns.kdeplot(df['weight'][df['gender']==1], label='weight1', c='r')\n",
    "sns.kdeplot(df['weight'][df['gender']==2], label='weight2', c='b')\n",
    "plt.show()"
   ]
  },
  {
   "cell_type": "markdown",
   "metadata": {},
   "source": [
    "It seems that men are indeed represented by the blue color and therefore by digit 2.<br>"
   ]
  },
  {
   "cell_type": "markdown",
   "metadata": {},
   "source": [
    "Renaming the column from \"gender\" to bool-type \"male\", simultaneously mapping right values."
   ]
  },
  {
   "cell_type": "code",
   "execution_count": 12,
   "metadata": {},
   "outputs": [],
   "source": [
    "df['gender'] = df['gender'].map({1:0, 2:1})\n",
    "df.rename(columns={'gender': 'male'}, inplace=True)"
   ]
  },
  {
   "cell_type": "markdown",
   "metadata": {},
   "source": [
    "# Pressure"
   ]
  },
  {
   "cell_type": "markdown",
   "metadata": {},
   "source": [
    "Exploring suspicious pressure values"
   ]
  },
  {
   "cell_type": "code",
   "execution_count": 13,
   "metadata": {
    "scrolled": true
   },
   "outputs": [
    {
     "data": {
      "text/html": [
       "<div>\n",
       "<style scoped>\n",
       "    .dataframe tbody tr th:only-of-type {\n",
       "        vertical-align: middle;\n",
       "    }\n",
       "\n",
       "    .dataframe tbody tr th {\n",
       "        vertical-align: top;\n",
       "    }\n",
       "\n",
       "    .dataframe thead th {\n",
       "        text-align: right;\n",
       "    }\n",
       "</style>\n",
       "<table border=\"1\" class=\"dataframe\">\n",
       "  <thead>\n",
       "    <tr style=\"text-align: right;\">\n",
       "      <th></th>\n",
       "      <th>age</th>\n",
       "      <th>male</th>\n",
       "      <th>height</th>\n",
       "      <th>weight</th>\n",
       "      <th>ap_hi</th>\n",
       "      <th>ap_lo</th>\n",
       "      <th>cholesterol</th>\n",
       "      <th>gluc</th>\n",
       "      <th>smoke</th>\n",
       "      <th>alco</th>\n",
       "      <th>active</th>\n",
       "      <th>cardio</th>\n",
       "    </tr>\n",
       "  </thead>\n",
       "  <tbody>\n",
       "    <tr>\n",
       "      <th>1177</th>\n",
       "      <td>41.385352</td>\n",
       "      <td>0</td>\n",
       "      <td>160</td>\n",
       "      <td>60.0</td>\n",
       "      <td>902</td>\n",
       "      <td>60</td>\n",
       "      <td>1</td>\n",
       "      <td>1</td>\n",
       "      <td>0</td>\n",
       "      <td>0</td>\n",
       "      <td>1</td>\n",
       "      <td>0</td>\n",
       "    </tr>\n",
       "    <tr>\n",
       "      <th>1315</th>\n",
       "      <td>62.182067</td>\n",
       "      <td>1</td>\n",
       "      <td>167</td>\n",
       "      <td>59.0</td>\n",
       "      <td>906</td>\n",
       "      <td>0</td>\n",
       "      <td>1</td>\n",
       "      <td>1</td>\n",
       "      <td>0</td>\n",
       "      <td>0</td>\n",
       "      <td>1</td>\n",
       "      <td>0</td>\n",
       "    </tr>\n",
       "    <tr>\n",
       "      <th>4118</th>\n",
       "      <td>39.493498</td>\n",
       "      <td>0</td>\n",
       "      <td>168</td>\n",
       "      <td>63.0</td>\n",
       "      <td>909</td>\n",
       "      <td>60</td>\n",
       "      <td>2</td>\n",
       "      <td>1</td>\n",
       "      <td>0</td>\n",
       "      <td>0</td>\n",
       "      <td>1</td>\n",
       "      <td>0</td>\n",
       "    </tr>\n",
       "    <tr>\n",
       "      <th>7064</th>\n",
       "      <td>57.582478</td>\n",
       "      <td>0</td>\n",
       "      <td>175</td>\n",
       "      <td>80.0</td>\n",
       "      <td>11500</td>\n",
       "      <td>90</td>\n",
       "      <td>1</td>\n",
       "      <td>1</td>\n",
       "      <td>0</td>\n",
       "      <td>0</td>\n",
       "      <td>1</td>\n",
       "      <td>1</td>\n",
       "    </tr>\n",
       "    <tr>\n",
       "      <th>8216</th>\n",
       "      <td>51.663244</td>\n",
       "      <td>0</td>\n",
       "      <td>164</td>\n",
       "      <td>75.0</td>\n",
       "      <td>1420</td>\n",
       "      <td>80</td>\n",
       "      <td>2</td>\n",
       "      <td>1</td>\n",
       "      <td>0</td>\n",
       "      <td>0</td>\n",
       "      <td>1</td>\n",
       "      <td>1</td>\n",
       "    </tr>\n",
       "    <tr>\n",
       "      <th>13196</th>\n",
       "      <td>43.794661</td>\n",
       "      <td>0</td>\n",
       "      <td>168</td>\n",
       "      <td>72.0</td>\n",
       "      <td>1500</td>\n",
       "      <td>80</td>\n",
       "      <td>1</td>\n",
       "      <td>1</td>\n",
       "      <td>0</td>\n",
       "      <td>0</td>\n",
       "      <td>1</td>\n",
       "      <td>1</td>\n",
       "    </tr>\n",
       "    <tr>\n",
       "      <th>17014</th>\n",
       "      <td>61.322382</td>\n",
       "      <td>1</td>\n",
       "      <td>163</td>\n",
       "      <td>50.0</td>\n",
       "      <td>907</td>\n",
       "      <td>70</td>\n",
       "      <td>3</td>\n",
       "      <td>3</td>\n",
       "      <td>0</td>\n",
       "      <td>0</td>\n",
       "      <td>1</td>\n",
       "      <td>1</td>\n",
       "    </tr>\n",
       "    <tr>\n",
       "      <th>23168</th>\n",
       "      <td>44.164271</td>\n",
       "      <td>0</td>\n",
       "      <td>161</td>\n",
       "      <td>92.0</td>\n",
       "      <td>906</td>\n",
       "      <td>0</td>\n",
       "      <td>2</td>\n",
       "      <td>1</td>\n",
       "      <td>0</td>\n",
       "      <td>0</td>\n",
       "      <td>1</td>\n",
       "      <td>1</td>\n",
       "    </tr>\n",
       "    <tr>\n",
       "      <th>24765</th>\n",
       "      <td>43.353867</td>\n",
       "      <td>1</td>\n",
       "      <td>169</td>\n",
       "      <td>75.0</td>\n",
       "      <td>14020</td>\n",
       "      <td>80</td>\n",
       "      <td>2</td>\n",
       "      <td>1</td>\n",
       "      <td>0</td>\n",
       "      <td>0</td>\n",
       "      <td>1</td>\n",
       "      <td>1</td>\n",
       "    </tr>\n",
       "    <tr>\n",
       "      <th>24820</th>\n",
       "      <td>58.483231</td>\n",
       "      <td>0</td>\n",
       "      <td>169</td>\n",
       "      <td>71.0</td>\n",
       "      <td>14020</td>\n",
       "      <td>80</td>\n",
       "      <td>3</td>\n",
       "      <td>3</td>\n",
       "      <td>0</td>\n",
       "      <td>0</td>\n",
       "      <td>1</td>\n",
       "      <td>1</td>\n",
       "    </tr>\n",
       "    <tr>\n",
       "      <th>25081</th>\n",
       "      <td>50.113621</td>\n",
       "      <td>0</td>\n",
       "      <td>157</td>\n",
       "      <td>83.0</td>\n",
       "      <td>1400</td>\n",
       "      <td>80</td>\n",
       "      <td>1</td>\n",
       "      <td>1</td>\n",
       "      <td>0</td>\n",
       "      <td>0</td>\n",
       "      <td>1</td>\n",
       "      <td>1</td>\n",
       "    </tr>\n",
       "    <tr>\n",
       "      <th>27448</th>\n",
       "      <td>53.935661</td>\n",
       "      <td>1</td>\n",
       "      <td>175</td>\n",
       "      <td>87.0</td>\n",
       "      <td>1620</td>\n",
       "      <td>80</td>\n",
       "      <td>2</td>\n",
       "      <td>1</td>\n",
       "      <td>0</td>\n",
       "      <td>0</td>\n",
       "      <td>1</td>\n",
       "      <td>1</td>\n",
       "    </tr>\n",
       "    <tr>\n",
       "      <th>28966</th>\n",
       "      <td>48.043806</td>\n",
       "      <td>0</td>\n",
       "      <td>154</td>\n",
       "      <td>65.0</td>\n",
       "      <td>907</td>\n",
       "      <td>70</td>\n",
       "      <td>1</td>\n",
       "      <td>1</td>\n",
       "      <td>0</td>\n",
       "      <td>0</td>\n",
       "      <td>1</td>\n",
       "      <td>0</td>\n",
       "    </tr>\n",
       "    <tr>\n",
       "      <th>31084</th>\n",
       "      <td>43.997262</td>\n",
       "      <td>0</td>\n",
       "      <td>170</td>\n",
       "      <td>64.0</td>\n",
       "      <td>907</td>\n",
       "      <td>0</td>\n",
       "      <td>1</td>\n",
       "      <td>1</td>\n",
       "      <td>0</td>\n",
       "      <td>0</td>\n",
       "      <td>1</td>\n",
       "      <td>0</td>\n",
       "    </tr>\n",
       "    <tr>\n",
       "      <th>36195</th>\n",
       "      <td>56.432580</td>\n",
       "      <td>1</td>\n",
       "      <td>175</td>\n",
       "      <td>78.0</td>\n",
       "      <td>1130</td>\n",
       "      <td>90</td>\n",
       "      <td>1</td>\n",
       "      <td>1</td>\n",
       "      <td>0</td>\n",
       "      <td>0</td>\n",
       "      <td>1</td>\n",
       "      <td>1</td>\n",
       "    </tr>\n",
       "    <tr>\n",
       "      <th>40153</th>\n",
       "      <td>47.742642</td>\n",
       "      <td>0</td>\n",
       "      <td>169</td>\n",
       "      <td>70.0</td>\n",
       "      <td>16020</td>\n",
       "      <td>80</td>\n",
       "      <td>1</td>\n",
       "      <td>1</td>\n",
       "      <td>0</td>\n",
       "      <td>0</td>\n",
       "      <td>0</td>\n",
       "      <td>1</td>\n",
       "    </tr>\n",
       "    <tr>\n",
       "      <th>40396</th>\n",
       "      <td>57.815195</td>\n",
       "      <td>0</td>\n",
       "      <td>160</td>\n",
       "      <td>60.0</td>\n",
       "      <td>1202</td>\n",
       "      <td>80</td>\n",
       "      <td>1</td>\n",
       "      <td>1</td>\n",
       "      <td>0</td>\n",
       "      <td>0</td>\n",
       "      <td>1</td>\n",
       "      <td>1</td>\n",
       "    </tr>\n",
       "    <tr>\n",
       "      <th>40806</th>\n",
       "      <td>57.412731</td>\n",
       "      <td>0</td>\n",
       "      <td>154</td>\n",
       "      <td>41.0</td>\n",
       "      <td>806</td>\n",
       "      <td>0</td>\n",
       "      <td>1</td>\n",
       "      <td>1</td>\n",
       "      <td>0</td>\n",
       "      <td>0</td>\n",
       "      <td>1</td>\n",
       "      <td>0</td>\n",
       "    </tr>\n",
       "    <tr>\n",
       "      <th>41698</th>\n",
       "      <td>49.248460</td>\n",
       "      <td>1</td>\n",
       "      <td>176</td>\n",
       "      <td>69.0</td>\n",
       "      <td>906</td>\n",
       "      <td>0</td>\n",
       "      <td>1</td>\n",
       "      <td>1</td>\n",
       "      <td>0</td>\n",
       "      <td>0</td>\n",
       "      <td>1</td>\n",
       "      <td>0</td>\n",
       "    </tr>\n",
       "    <tr>\n",
       "      <th>41959</th>\n",
       "      <td>56.005476</td>\n",
       "      <td>1</td>\n",
       "      <td>182</td>\n",
       "      <td>80.0</td>\n",
       "      <td>906</td>\n",
       "      <td>60</td>\n",
       "      <td>1</td>\n",
       "      <td>1</td>\n",
       "      <td>0</td>\n",
       "      <td>0</td>\n",
       "      <td>1</td>\n",
       "      <td>1</td>\n",
       "    </tr>\n",
       "    <tr>\n",
       "      <th>42434</th>\n",
       "      <td>57.388090</td>\n",
       "      <td>1</td>\n",
       "      <td>170</td>\n",
       "      <td>78.0</td>\n",
       "      <td>1400</td>\n",
       "      <td>90</td>\n",
       "      <td>2</td>\n",
       "      <td>1</td>\n",
       "      <td>0</td>\n",
       "      <td>0</td>\n",
       "      <td>1</td>\n",
       "      <td>0</td>\n",
       "    </tr>\n",
       "    <tr>\n",
       "      <th>42509</th>\n",
       "      <td>64.114990</td>\n",
       "      <td>0</td>\n",
       "      <td>165</td>\n",
       "      <td>67.0</td>\n",
       "      <td>1420</td>\n",
       "      <td>80</td>\n",
       "      <td>2</td>\n",
       "      <td>1</td>\n",
       "      <td>0</td>\n",
       "      <td>0</td>\n",
       "      <td>1</td>\n",
       "      <td>1</td>\n",
       "    </tr>\n",
       "    <tr>\n",
       "      <th>42805</th>\n",
       "      <td>53.481177</td>\n",
       "      <td>0</td>\n",
       "      <td>158</td>\n",
       "      <td>62.0</td>\n",
       "      <td>1300</td>\n",
       "      <td>80</td>\n",
       "      <td>3</td>\n",
       "      <td>1</td>\n",
       "      <td>0</td>\n",
       "      <td>1</td>\n",
       "      <td>1</td>\n",
       "      <td>1</td>\n",
       "    </tr>\n",
       "    <tr>\n",
       "      <th>46213</th>\n",
       "      <td>46.297057</td>\n",
       "      <td>1</td>\n",
       "      <td>180</td>\n",
       "      <td>78.0</td>\n",
       "      <td>14020</td>\n",
       "      <td>90</td>\n",
       "      <td>1</td>\n",
       "      <td>1</td>\n",
       "      <td>0</td>\n",
       "      <td>0</td>\n",
       "      <td>1</td>\n",
       "      <td>1</td>\n",
       "    </tr>\n",
       "    <tr>\n",
       "      <th>46554</th>\n",
       "      <td>54.020534</td>\n",
       "      <td>0</td>\n",
       "      <td>160</td>\n",
       "      <td>65.0</td>\n",
       "      <td>14020</td>\n",
       "      <td>90</td>\n",
       "      <td>1</td>\n",
       "      <td>1</td>\n",
       "      <td>0</td>\n",
       "      <td>0</td>\n",
       "      <td>1</td>\n",
       "      <td>0</td>\n",
       "    </tr>\n",
       "    <tr>\n",
       "      <th>48096</th>\n",
       "      <td>59.868583</td>\n",
       "      <td>0</td>\n",
       "      <td>156</td>\n",
       "      <td>76.0</td>\n",
       "      <td>1400</td>\n",
       "      <td>90</td>\n",
       "      <td>1</td>\n",
       "      <td>1</td>\n",
       "      <td>0</td>\n",
       "      <td>0</td>\n",
       "      <td>1</td>\n",
       "      <td>1</td>\n",
       "    </tr>\n",
       "    <tr>\n",
       "      <th>50137</th>\n",
       "      <td>46.318960</td>\n",
       "      <td>1</td>\n",
       "      <td>164</td>\n",
       "      <td>66.0</td>\n",
       "      <td>1409</td>\n",
       "      <td>90</td>\n",
       "      <td>1</td>\n",
       "      <td>1</td>\n",
       "      <td>0</td>\n",
       "      <td>0</td>\n",
       "      <td>1</td>\n",
       "      <td>1</td>\n",
       "    </tr>\n",
       "    <tr>\n",
       "      <th>50739</th>\n",
       "      <td>51.427789</td>\n",
       "      <td>1</td>\n",
       "      <td>168</td>\n",
       "      <td>65.0</td>\n",
       "      <td>11020</td>\n",
       "      <td>80</td>\n",
       "      <td>1</td>\n",
       "      <td>1</td>\n",
       "      <td>0</td>\n",
       "      <td>0</td>\n",
       "      <td>1</td>\n",
       "      <td>1</td>\n",
       "    </tr>\n",
       "    <tr>\n",
       "      <th>53283</th>\n",
       "      <td>50.680356</td>\n",
       "      <td>0</td>\n",
       "      <td>164</td>\n",
       "      <td>54.0</td>\n",
       "      <td>960</td>\n",
       "      <td>60</td>\n",
       "      <td>1</td>\n",
       "      <td>1</td>\n",
       "      <td>0</td>\n",
       "      <td>0</td>\n",
       "      <td>1</td>\n",
       "      <td>0</td>\n",
       "    </tr>\n",
       "    <tr>\n",
       "      <th>54760</th>\n",
       "      <td>50.121834</td>\n",
       "      <td>0</td>\n",
       "      <td>152</td>\n",
       "      <td>76.0</td>\n",
       "      <td>13010</td>\n",
       "      <td>80</td>\n",
       "      <td>2</td>\n",
       "      <td>2</td>\n",
       "      <td>0</td>\n",
       "      <td>0</td>\n",
       "      <td>1</td>\n",
       "      <td>1</td>\n",
       "    </tr>\n",
       "    <tr>\n",
       "      <th>55148</th>\n",
       "      <td>63.468857</td>\n",
       "      <td>0</td>\n",
       "      <td>161</td>\n",
       "      <td>105.0</td>\n",
       "      <td>13010</td>\n",
       "      <td>80</td>\n",
       "      <td>1</td>\n",
       "      <td>1</td>\n",
       "      <td>0</td>\n",
       "      <td>0</td>\n",
       "      <td>0</td>\n",
       "      <td>0</td>\n",
       "    </tr>\n",
       "    <tr>\n",
       "      <th>56592</th>\n",
       "      <td>60.090349</td>\n",
       "      <td>1</td>\n",
       "      <td>166</td>\n",
       "      <td>73.0</td>\n",
       "      <td>1300</td>\n",
       "      <td>90</td>\n",
       "      <td>1</td>\n",
       "      <td>1</td>\n",
       "      <td>0</td>\n",
       "      <td>1</td>\n",
       "      <td>1</td>\n",
       "      <td>0</td>\n",
       "    </tr>\n",
       "    <tr>\n",
       "      <th>57219</th>\n",
       "      <td>63.693361</td>\n",
       "      <td>0</td>\n",
       "      <td>153</td>\n",
       "      <td>63.0</td>\n",
       "      <td>1110</td>\n",
       "      <td>80</td>\n",
       "      <td>1</td>\n",
       "      <td>1</td>\n",
       "      <td>0</td>\n",
       "      <td>0</td>\n",
       "      <td>0</td>\n",
       "      <td>1</td>\n",
       "    </tr>\n",
       "    <tr>\n",
       "      <th>63297</th>\n",
       "      <td>46.349076</td>\n",
       "      <td>0</td>\n",
       "      <td>168</td>\n",
       "      <td>69.0</td>\n",
       "      <td>1205</td>\n",
       "      <td>90</td>\n",
       "      <td>1</td>\n",
       "      <td>1</td>\n",
       "      <td>0</td>\n",
       "      <td>0</td>\n",
       "      <td>0</td>\n",
       "      <td>1</td>\n",
       "    </tr>\n",
       "    <tr>\n",
       "      <th>64212</th>\n",
       "      <td>45.650924</td>\n",
       "      <td>0</td>\n",
       "      <td>157</td>\n",
       "      <td>78.0</td>\n",
       "      <td>906</td>\n",
       "      <td>60</td>\n",
       "      <td>2</td>\n",
       "      <td>1</td>\n",
       "      <td>0</td>\n",
       "      <td>0</td>\n",
       "      <td>1</td>\n",
       "      <td>0</td>\n",
       "    </tr>\n",
       "    <tr>\n",
       "      <th>67964</th>\n",
       "      <td>49.801506</td>\n",
       "      <td>0</td>\n",
       "      <td>156</td>\n",
       "      <td>41.0</td>\n",
       "      <td>906</td>\n",
       "      <td>0</td>\n",
       "      <td>1</td>\n",
       "      <td>1</td>\n",
       "      <td>0</td>\n",
       "      <td>0</td>\n",
       "      <td>1</td>\n",
       "      <td>0</td>\n",
       "    </tr>\n",
       "    <tr>\n",
       "      <th>68671</th>\n",
       "      <td>40.235455</td>\n",
       "      <td>0</td>\n",
       "      <td>170</td>\n",
       "      <td>74.0</td>\n",
       "      <td>2000</td>\n",
       "      <td>100</td>\n",
       "      <td>2</td>\n",
       "      <td>1</td>\n",
       "      <td>0</td>\n",
       "      <td>0</td>\n",
       "      <td>1</td>\n",
       "      <td>1</td>\n",
       "    </tr>\n",
       "  </tbody>\n",
       "</table>\n",
       "</div>"
      ],
      "text/plain": [
       "             age  male  height  weight  ap_hi  ap_lo  cholesterol  gluc  \\\n",
       "1177   41.385352     0     160    60.0    902     60            1     1   \n",
       "1315   62.182067     1     167    59.0    906      0            1     1   \n",
       "4118   39.493498     0     168    63.0    909     60            2     1   \n",
       "7064   57.582478     0     175    80.0  11500     90            1     1   \n",
       "8216   51.663244     0     164    75.0   1420     80            2     1   \n",
       "13196  43.794661     0     168    72.0   1500     80            1     1   \n",
       "17014  61.322382     1     163    50.0    907     70            3     3   \n",
       "23168  44.164271     0     161    92.0    906      0            2     1   \n",
       "24765  43.353867     1     169    75.0  14020     80            2     1   \n",
       "24820  58.483231     0     169    71.0  14020     80            3     3   \n",
       "25081  50.113621     0     157    83.0   1400     80            1     1   \n",
       "27448  53.935661     1     175    87.0   1620     80            2     1   \n",
       "28966  48.043806     0     154    65.0    907     70            1     1   \n",
       "31084  43.997262     0     170    64.0    907      0            1     1   \n",
       "36195  56.432580     1     175    78.0   1130     90            1     1   \n",
       "40153  47.742642     0     169    70.0  16020     80            1     1   \n",
       "40396  57.815195     0     160    60.0   1202     80            1     1   \n",
       "40806  57.412731     0     154    41.0    806      0            1     1   \n",
       "41698  49.248460     1     176    69.0    906      0            1     1   \n",
       "41959  56.005476     1     182    80.0    906     60            1     1   \n",
       "42434  57.388090     1     170    78.0   1400     90            2     1   \n",
       "42509  64.114990     0     165    67.0   1420     80            2     1   \n",
       "42805  53.481177     0     158    62.0   1300     80            3     1   \n",
       "46213  46.297057     1     180    78.0  14020     90            1     1   \n",
       "46554  54.020534     0     160    65.0  14020     90            1     1   \n",
       "48096  59.868583     0     156    76.0   1400     90            1     1   \n",
       "50137  46.318960     1     164    66.0   1409     90            1     1   \n",
       "50739  51.427789     1     168    65.0  11020     80            1     1   \n",
       "53283  50.680356     0     164    54.0    960     60            1     1   \n",
       "54760  50.121834     0     152    76.0  13010     80            2     2   \n",
       "55148  63.468857     0     161   105.0  13010     80            1     1   \n",
       "56592  60.090349     1     166    73.0   1300     90            1     1   \n",
       "57219  63.693361     0     153    63.0   1110     80            1     1   \n",
       "63297  46.349076     0     168    69.0   1205     90            1     1   \n",
       "64212  45.650924     0     157    78.0    906     60            2     1   \n",
       "67964  49.801506     0     156    41.0    906      0            1     1   \n",
       "68671  40.235455     0     170    74.0   2000    100            2     1   \n",
       "\n",
       "       smoke  alco  active  cardio  \n",
       "1177       0     0       1       0  \n",
       "1315       0     0       1       0  \n",
       "4118       0     0       1       0  \n",
       "7064       0     0       1       1  \n",
       "8216       0     0       1       1  \n",
       "13196      0     0       1       1  \n",
       "17014      0     0       1       1  \n",
       "23168      0     0       1       1  \n",
       "24765      0     0       1       1  \n",
       "24820      0     0       1       1  \n",
       "25081      0     0       1       1  \n",
       "27448      0     0       1       1  \n",
       "28966      0     0       1       0  \n",
       "31084      0     0       1       0  \n",
       "36195      0     0       1       1  \n",
       "40153      0     0       0       1  \n",
       "40396      0     0       1       1  \n",
       "40806      0     0       1       0  \n",
       "41698      0     0       1       0  \n",
       "41959      0     0       1       1  \n",
       "42434      0     0       1       0  \n",
       "42509      0     0       1       1  \n",
       "42805      0     1       1       1  \n",
       "46213      0     0       1       1  \n",
       "46554      0     0       1       0  \n",
       "48096      0     0       1       1  \n",
       "50137      0     0       1       1  \n",
       "50739      0     0       1       1  \n",
       "53283      0     0       1       0  \n",
       "54760      0     0       1       1  \n",
       "55148      0     0       0       0  \n",
       "56592      0     1       1       0  \n",
       "57219      0     0       0       1  \n",
       "63297      0     0       0       1  \n",
       "64212      0     0       1       0  \n",
       "67964      0     0       1       0  \n",
       "68671      0     0       1       1  "
      ]
     },
     "execution_count": 13,
     "metadata": {},
     "output_type": "execute_result"
    }
   ],
   "source": [
    "df[df['ap_hi'] > 800]"
   ]
  },
  {
   "cell_type": "markdown",
   "metadata": {},
   "source": [
    "As the ap_hi pressure above 180mmHg is extremely dangerous, we will allow readings up to 180 +10%.<br>\n",
    "As for the lower bound we will take 50, since we do not know the circumstances in which patients were during tests.<br>\n",
    "From the literature, we can learn that pressure measuring equipment can detect max 300mmHg.<br>\n",
    "Source: https://www.ncbi.nlm.nih.gov/books/NBK279251/<br>\n",
    "We will therefore reject readings above 198mmHg. As of the readings higher than 800mmHg it is possible,<br>\n",
    "that these readings' decimal point has been ommited. We will divide by 10 all readings ranging from 800 to 999<br>\n",
    "and by 100 readings above 1000mmHg but also 10000mmHg and further.<br>\n",
    "Therefore all numbers >1000 could be divided in such way that they result as hundreds.<br>\n",
    "This thesis require that there are no values present between 2000 and 8000,<br>\n",
    "since it would imply improbable pressure below 80mmHg."
   ]
  },
  {
   "cell_type": "code",
   "execution_count": 14,
   "metadata": {},
   "outputs": [],
   "source": [
    "# Getting the absolute value of all readings to eliminate possible typos\n",
    "df['ap_hi'] = df['ap_hi'].apply(abs)\n",
    "df['ap_lo'] = df['ap_lo'].apply(abs)"
   ]
  },
  {
   "cell_type": "code",
   "execution_count": 15,
   "metadata": {},
   "outputs": [
    {
     "data": {
      "text/html": [
       "<div>\n",
       "<style scoped>\n",
       "    .dataframe tbody tr th:only-of-type {\n",
       "        vertical-align: middle;\n",
       "    }\n",
       "\n",
       "    .dataframe tbody tr th {\n",
       "        vertical-align: top;\n",
       "    }\n",
       "\n",
       "    .dataframe thead th {\n",
       "        text-align: right;\n",
       "    }\n",
       "</style>\n",
       "<table border=\"1\" class=\"dataframe\">\n",
       "  <thead>\n",
       "    <tr style=\"text-align: right;\">\n",
       "      <th></th>\n",
       "      <th>age</th>\n",
       "      <th>male</th>\n",
       "      <th>height</th>\n",
       "      <th>weight</th>\n",
       "      <th>ap_hi</th>\n",
       "      <th>ap_lo</th>\n",
       "      <th>cholesterol</th>\n",
       "      <th>gluc</th>\n",
       "      <th>smoke</th>\n",
       "      <th>alco</th>\n",
       "      <th>active</th>\n",
       "      <th>cardio</th>\n",
       "    </tr>\n",
       "  </thead>\n",
       "  <tbody>\n",
       "  </tbody>\n",
       "</table>\n",
       "</div>"
      ],
      "text/plain": [
       "Empty DataFrame\n",
       "Columns: [age, male, height, weight, ap_hi, ap_lo, cholesterol, gluc, smoke, alco, active, cardio]\n",
       "Index: []"
      ]
     },
     "execution_count": 15,
     "metadata": {},
     "output_type": "execute_result"
    }
   ],
   "source": [
    "df[(df['ap_hi'] > 2000) & (df['ap_hi'] < 8000)]"
   ]
  },
  {
   "cell_type": "markdown",
   "metadata": {},
   "source": [
    "As we can see, we are good to go:"
   ]
  },
  {
   "cell_type": "code",
   "execution_count": 16,
   "metadata": {},
   "outputs": [],
   "source": [
    "df['ap_hi'] = df['ap_hi'].apply(lambda x: x/10 if (x>800 and len(str(x))==3) else (x/(10**(len(str(x))-3)) if len(str(x))>3 else x))"
   ]
  },
  {
   "cell_type": "code",
   "execution_count": 17,
   "metadata": {},
   "outputs": [],
   "source": [
    "# Dropping rows with Systolic blood pressure between 198 and 800\n",
    "df.drop(df[(df['ap_hi']>198) & (df['ap_hi']<800)].index, inplace=True)"
   ]
  },
  {
   "cell_type": "code",
   "execution_count": 18,
   "metadata": {},
   "outputs": [],
   "source": [
    "# Dropping rows with Systolic blood pressure below 50mmHg\n",
    "df.drop(df[df['ap_hi']<50].index, inplace=True)"
   ]
  },
  {
   "cell_type": "markdown",
   "metadata": {},
   "source": [
    "We will perform similar operations for diastolic pressure, allowing it to be between 50 and 132."
   ]
  },
  {
   "cell_type": "code",
   "execution_count": 19,
   "metadata": {},
   "outputs": [],
   "source": [
    "df['ap_lo'] = df['ap_lo'].apply(lambda x: x/10 if (x>800 and x<1320) else (x/100 if x>=8000 else x))"
   ]
  },
  {
   "cell_type": "code",
   "execution_count": 20,
   "metadata": {
    "scrolled": true
   },
   "outputs": [],
   "source": [
    "df.drop(df[(df['ap_lo']>132) | (df['ap_lo']<50)].index, inplace=True)"
   ]
  },
  {
   "cell_type": "markdown",
   "metadata": {},
   "source": [
    "Now we will check how the boxplots look with possible, but necessary to allow outliers."
   ]
  },
  {
   "cell_type": "code",
   "execution_count": 21,
   "metadata": {},
   "outputs": [
    {
     "data": {
      "text/plain": [
       "<matplotlib.axes._subplots.AxesSubplot at 0x15699148>"
      ]
     },
     "execution_count": 21,
     "metadata": {},
     "output_type": "execute_result"
    },
    {
     "data": {
      "image/png": "[encoded data removed]",
      "text/plain": [
       "<Figure size 432x288 with 1 Axes>"
      ]
     },
     "metadata": {
      "needs_background": "light"
     },
     "output_type": "display_data"
    }
   ],
   "source": [
    "sns.boxplot(x='ap_hi', data=df)"
   ]
  },
  {
   "cell_type": "code",
   "execution_count": 22,
   "metadata": {},
   "outputs": [
    {
     "data": {
      "text/plain": [
       "<matplotlib.axes._subplots.AxesSubplot at 0x12093d88>"
      ]
     },
     "execution_count": 22,
     "metadata": {},
     "output_type": "execute_result"
    },
    {
     "data": {
      "image/png": "[encoded data removed]",
      "text/plain": [
       "<Figure size 432x288 with 1 Axes>"
      ]
     },
     "metadata": {
      "needs_background": "light"
     },
     "output_type": "display_data"
    }
   ],
   "source": [
    "sns.boxplot(x='ap_lo', data=df)"
   ]
  },
  {
   "cell_type": "markdown",
   "metadata": {},
   "source": [
    "# Height and weight"
   ]
  },
  {
   "cell_type": "markdown",
   "metadata": {},
   "source": [
    "Next step is to eliminate impossible outliers for height and weight."
   ]
  },
  {
   "cell_type": "code",
   "execution_count": 23,
   "metadata": {
    "scrolled": true
   },
   "outputs": [
    {
     "data": {
      "text/plain": [
       "<matplotlib.axes._subplots.AxesSubplot at 0x121e9708>"
      ]
     },
     "execution_count": 23,
     "metadata": {},
     "output_type": "execute_result"
    },
    {
     "data": {
      "image/png": "[encoded data removed]",
      "text/plain": [
       "<Figure size 432x288 with 1 Axes>"
      ]
     },
     "metadata": {
      "needs_background": "light"
     },
     "output_type": "display_data"
    }
   ],
   "source": [
    "sns.boxplot(x='height', data=df)"
   ]
  },
  {
   "cell_type": "code",
   "execution_count": 24,
   "metadata": {
    "scrolled": false
   },
   "outputs": [
    {
     "data": {
      "text/plain": [
       "<matplotlib.axes._subplots.AxesSubplot at 0x12260288>"
      ]
     },
     "execution_count": 24,
     "metadata": {},
     "output_type": "execute_result"
    },
    {
     "data": {
      "image/png": "[encoded data removed]",
      "text/plain": [
       "<Figure size 432x288 with 1 Axes>"
      ]
     },
     "metadata": {
      "needs_background": "light"
     },
     "output_type": "display_data"
    }
   ],
   "source": [
    "sns.boxplot(x='weight', data=df)"
   ]
  },
  {
   "cell_type": "markdown",
   "metadata": {},
   "source": [
    "Extreme values for both weight and height do not only seem impossible but also are an outliers.<br>\n",
    "Therefore we will check whether the 1% quantile is common to probable measures and if rejecting it<br>\n",
    "will help us get rid of outliers."
   ]
  },
  {
   "cell_type": "code",
   "execution_count": 25,
   "metadata": {},
   "outputs": [
    {
     "name": "stdout",
     "output_type": "stream",
     "text": [
      "Lightest 1%:  48.0\n",
      "Heaviest 1%:  117.0\n",
      "Shortest 1%:  147.0\n",
      "Tallest 1%:  184.0\n"
     ]
    }
   ],
   "source": [
    "print('Lightest 1%: ',df.weight.quantile(0.01))\n",
    "print('Heaviest 1%: ',df.weight.quantile(0.99))\n",
    "print('Shortest 1%: ',df.height.quantile(0.01))\n",
    "print('Tallest 1%: ',df.height.quantile(0.99))"
   ]
  },
  {
   "cell_type": "markdown",
   "metadata": {},
   "source": [
    "Since weight above 117kg is far more probable and more common in dataset than weight below 48kg<br>\n",
    "we will reject only lowest quantile.<br>\n",
    "As for height we have similar case, we will reject data with measures shorter than 147cm and leave all above<br>\n",
    "except for one critical outlier measuring 250cm as a possible women, what is in conflict for the tallest woman<br>\n",
    "from Guiness World Record."
   ]
  },
  {
   "cell_type": "code",
   "execution_count": 26,
   "metadata": {},
   "outputs": [],
   "source": [
    "df.drop(df[(df['weight'] < df.weight.quantile(0.01)) | (df['height'] < df.height.quantile(0.01))].index, inplace=True)\n",
    "df.drop(df[df['height']==250].index, inplace=True)"
   ]
  },
  {
   "cell_type": "markdown",
   "metadata": {},
   "source": [
    "Let's now visualize the distribution of our data"
   ]
  },
  {
   "cell_type": "code",
   "execution_count": 27,
   "metadata": {
    "scrolled": true
   },
   "outputs": [
    {
     "data": {
      "text/plain": [
       "<seaborn.axisgrid.PairGrid at 0x156a2588>"
      ]
     },
     "execution_count": 27,
     "metadata": {},
     "output_type": "execute_result"
    },
    {
     "data": {
      "image/png": "[encoded data removed]",
      "text/plain": [
       "<Figure size 402.375x360 with 6 Axes>"
      ]
     },
     "metadata": {
      "needs_background": "light"
     },
     "output_type": "display_data"
    }
   ],
   "source": [
    "sns.pairplot(data=df[['height', 'weight', 'male']], hue='male')"
   ]
  },
  {
   "cell_type": "markdown",
   "metadata": {},
   "source": [
    "All of the readings seem probable, now we can start looking for possible correlations that could pinpoint<br>\n",
    "us in the right direction."
   ]
  },
  {
   "cell_type": "code",
   "execution_count": 28,
   "metadata": {},
   "outputs": [
    {
     "name": "stdout",
     "output_type": "stream",
     "text": [
      "                  age      male    height    weight     ap_hi     ap_lo  \\\n",
      "age          1.000000 -0.023706 -0.085549  0.053900  0.206740  0.152593   \n",
      "male        -0.023706  1.000000  0.525913  0.147933  0.058888  0.064929   \n",
      "height      -0.085549  0.525913  1.000000  0.292995  0.012414  0.028066   \n",
      "weight       0.053900  0.147933  0.292995  1.000000  0.266370  0.248102   \n",
      "ap_hi        0.206740  0.058888  0.012414  0.266370  1.000000  0.719603   \n",
      "ap_lo        0.152593  0.064929  0.028066  0.248102  0.719603  1.000000   \n",
      "cholesterol  0.153280 -0.036093 -0.055706  0.144489  0.193829  0.159739   \n",
      "gluc         0.099521 -0.021848 -0.023589  0.107791  0.091314  0.072303   \n",
      "smoke       -0.048536  0.337061  0.196997  0.066297  0.024657  0.024174   \n",
      "alco        -0.029273  0.171367  0.098933  0.066651  0.032358  0.038086   \n",
      "active      -0.010149  0.006649 -0.009051 -0.015021  0.002085  0.002110   \n",
      "cardio       0.236646  0.006688 -0.014530  0.178122  0.432652  0.343552   \n",
      "\n",
      "             cholesterol      gluc     smoke      alco    active    cardio  \n",
      "age             0.153280  0.099521 -0.048536 -0.029273 -0.010149  0.236646  \n",
      "male           -0.036093 -0.021848  0.337061  0.171367  0.006649  0.006688  \n",
      "height         -0.055706 -0.023589  0.196997  0.098933 -0.009051 -0.014530  \n",
      "weight          0.144489  0.107791  0.066297  0.066651 -0.015021  0.178122  \n",
      "ap_hi           0.193829  0.091314  0.024657  0.032358  0.002085  0.432652  \n",
      "ap_lo           0.159739  0.072303  0.024174  0.038086  0.002110  0.343552  \n",
      "cholesterol     1.000000  0.452490  0.010556  0.035100  0.008750  0.219803  \n",
      "gluc            0.452490  1.000000 -0.004929  0.010373 -0.007261  0.087356  \n",
      "smoke           0.010556 -0.004929  1.000000  0.339770  0.025667 -0.015834  \n",
      "alco            0.035100  0.010373  0.339770  1.000000  0.025583 -0.007951  \n",
      "active          0.008750 -0.007261  0.025667  0.025583  1.000000 -0.035800  \n",
      "cardio          0.219803  0.087356 -0.015834 -0.007951 -0.035800  1.000000  \n"
     ]
    },
    {
     "data": {
      "image/png": "[encoded data removed]",
      "text/plain": [
       "<Figure size 432x288 with 2 Axes>"
      ]
     },
     "metadata": {
      "needs_background": "light"
     },
     "output_type": "display_data"
    }
   ],
   "source": [
    "corrMatrix = df.corr()\n",
    "print(corrMatrix)\n",
    "sns.heatmap(corrMatrix, annot=True)\n",
    "plt.show()"
   ]
  },
  {
   "cell_type": "markdown",
   "metadata": {},
   "source": [
    "From the first glance and the correlation matrix's cardio row, we can see that it represents the lowest<br>\n",
    "correlation with persons height, his/her status to smoking, drinking and being physically active.<br>\n",
    "We will confirm it with iterating over categorical values versus having or not having CDV."
   ]
  },
  {
   "cell_type": "markdown",
   "metadata": {},
   "source": [
    "For starters we need to check if only the categorical data is of int64 type, and continous of float64."
   ]
  },
  {
   "cell_type": "code",
   "execution_count": 29,
   "metadata": {},
   "outputs": [
    {
     "name": "stdout",
     "output_type": "stream",
     "text": [
      "<class 'pandas.core.frame.DataFrame'>\n",
      "Int64Index: 67608 entries, 0 to 69300\n",
      "Data columns (total 12 columns):\n",
      " #   Column       Non-Null Count  Dtype  \n",
      "---  ------       --------------  -----  \n",
      " 0   age          67608 non-null  float64\n",
      " 1   male         67608 non-null  int64  \n",
      " 2   height       67608 non-null  int64  \n",
      " 3   weight       67608 non-null  float64\n",
      " 4   ap_hi        67608 non-null  float64\n",
      " 5   ap_lo        67608 non-null  float64\n",
      " 6   cholesterol  67608 non-null  int64  \n",
      " 7   gluc         67608 non-null  int64  \n",
      " 8   smoke        67608 non-null  int64  \n",
      " 9   alco         67608 non-null  int64  \n",
      " 10  active       67608 non-null  int64  \n",
      " 11  cardio       67608 non-null  int64  \n",
      "dtypes: float64(4), int64(8)\n",
      "memory usage: 9.2 MB\n"
     ]
    }
   ],
   "source": [
    "df.info()"
   ]
  },
  {
   "cell_type": "markdown",
   "metadata": {},
   "source": [
    "As we can see, height although being continous data, is represented as int64 so we need to change its type."
   ]
  },
  {
   "cell_type": "code",
   "execution_count": 30,
   "metadata": {},
   "outputs": [],
   "source": [
    "df['height'] = df['height'].astype(np.float64)"
   ]
  },
  {
   "cell_type": "markdown",
   "metadata": {},
   "source": [
    "Now we can proceed to iterating over categorical values:"
   ]
  },
  {
   "cell_type": "code",
   "execution_count": 31,
   "metadata": {
    "scrolled": true
   },
   "outputs": [
    {
     "name": "stdout",
     "output_type": "stream",
     "text": [
      "Having CVD: male\n",
      "   male    cardio\n",
      "0     0  0.497333\n",
      "1     1  0.504327\n",
      "---------- \n",
      "\n",
      "Having CVD: cholesterol\n",
      "   cholesterol    cardio\n",
      "0            1  0.440513\n",
      "1            2  0.603595\n",
      "2            3  0.763067\n",
      "---------- \n",
      "\n",
      "Having CVD: gluc\n",
      "   gluc    cardio\n",
      "0     1  0.481124\n",
      "1     2  0.591118\n",
      "2     3  0.619472\n",
      "---------- \n",
      "\n",
      "Having CVD: smoke\n",
      "   smoke    cardio\n",
      "0      0  0.502281\n",
      "1      1  0.474463\n",
      "---------- \n",
      "\n",
      "Having CVD: alco\n",
      "   alco    cardio\n",
      "0     0  0.500758\n",
      "1     1  0.483183\n",
      "---------- \n",
      "\n",
      "Having CVD: active\n",
      "   active    cardio\n",
      "0       0  0.536043\n",
      "1       1  0.490965\n",
      "---------- \n",
      "\n"
     ]
    }
   ],
   "source": [
    "for x in df:\n",
    "    if df[x].dtype != 'float64' and x != 'cardio':\n",
    "        print('Having CVD:', x)\n",
    "        print(df[[x, 'cardio']].groupby(x, as_index=False).mean())\n",
    "        print('-'*10, '\\n')"
   ]
  },
  {
   "cell_type": "markdown",
   "metadata": {},
   "source": [
    "As we can see, according to this dataset, there is negligible correlation between sex, being prone to alcohol,<br>\n",
    "being physically active and having higher chance of suffering from CVD. Therefore we should be able to exclude<br>\n",
    "these features from ML model without visible penalizing its performance.<br>\n",
    "After such preparation of data, we are now able to save it and pass it to our ML model."
   ]
  },
  {
   "cell_type": "code",
   "execution_count": 32,
   "metadata": {},
   "outputs": [],
   "source": [
    "df.to_csv('data_prepared.csv', index=False)"
   ]
  },
  {
   "cell_type": "markdown",
   "metadata": {},
   "source": [
    "Hyperparameter optimization"
   ]
  },
  {
   "cell_type": "code",
   "execution_count": 33,
   "metadata": {},
   "outputs": [
    {
     "name": "stdout",
     "output_type": "stream",
     "text": [
      "Best Parameters using grid search: \n",
      " {'bootstrap': True, 'criterion': 'entropy', 'max_depth': 7, 'max_features': 'log2'}\n"
     ]
    }
   ],
   "source": [
    "columns = ['age', 'height', 'weight', 'ap_hi', 'ap_lo', 'cholesterol', 'gluc', 'active']\n",
    "x = df[columns]\n",
    "y = df['cardio']\n",
    "x_train, x_test, y_train, y_test = train_test_split(x, y, train_size=.75, random_state=1)\n",
    "forest = RandomForestClassifier(random_state=1)\n",
    "param_dist = {'max_depth': [2, 3, 4, 5, 6 ,7, 8, 9],\n",
    "              'bootstrap': [True, False],\n",
    "              'max_features': ['auto', 'sqrt', 'log2', None],\n",
    "              'criterion': ['gini', 'entropy']}\n",
    "\n",
    "cv_rf = GridSearchCV(forest, cv = 3,\n",
    "                     param_grid=param_dist,\n",
    "                     n_jobs = 3)\n",
    "\n",
    "cv_rf.fit(x_train, y_train)\n",
    "print('Best Parameters using grid search: \\n',\n",
    "      cv_rf.best_params_)\n"
   ]
  },
  {
   "cell_type": "code",
   "execution_count": 34,
   "metadata": {},
   "outputs": [
    {
     "name": "stdout",
     "output_type": "stream",
     "text": [
      "Random forest score:  0.7335226600402319\n",
      "Confusion matrix:\n",
      "[[6848 1696]\n",
      " [2808 5550]]\n",
      "Predicted outcome for me:  0\n",
      "Probability of prediction being right:  0.8204245389045046\n",
      "Predicted outcome for my mother:  1\n",
      "Probability of prediction being right:  0.7727028200328989 \n",
      "\n",
      "Variable: ap_hi                Importance: 0.48\n",
      "Variable: ap_lo                Importance: 0.23\n",
      "Variable: age                  Importance: 0.13\n",
      "Variable: cholesterol          Importance: 0.1\n",
      "Variable: weight               Importance: 0.03\n",
      "Variable: height               Importance: 0.01\n",
      "Variable: gluc                 Importance: 0.01\n",
      "Variable: active               Importance: 0.01\n"
     ]
    },
    {
     "data": {
      "text/plain": [
       "[None, None, None, None, None, None, None, None]"
      ]
     },
     "execution_count": 34,
     "metadata": {},
     "output_type": "execute_result"
    }
   ],
   "source": [
    "# forest.set_params(criterion = 'gini',\n",
    "#                   max_features = 'auto',\n",
    "#                   max_depth = 8,\n",
    "#                   bootstrap = True)\n",
    "forest.set_params(bootstrap = True,\n",
    "                  criterion = 'entropy',\n",
    "                  max_depth = 7, \n",
    "                  max_features = 'log2')\n",
    "forest.fit(x_train, y_train)\n",
    "y_pred = forest.predict(x_test)\n",
    "print('Random forest score: ', forest.score(x_test, y_test))\n",
    "me = np.array([24,179,74,128,76,1,1,0]).reshape(1, -1)\n",
    "mother = np.array([48,156,54,177,79,1,1,0]).reshape(1, -1)\n",
    "conf_mat = confusion_matrix(y_test, y_pred)\n",
    "print('Confusion matrix:')\n",
    "print(conf_mat)\n",
    "print('Predicted outcome for me: ', forest.predict(me)[0])\n",
    "# Getting right probability for the case\n",
    "i = 0\n",
    "if forest.predict(me)[0] == 1:\n",
    "    i = 1\n",
    "print('Probability of prediction being right: ', forest.predict_proba(me)[0][i])\n",
    "print('Predicted outcome for my mother: ', forest.predict(mother)[0])\n",
    "# Getting right probability for the case\n",
    "i = 0\n",
    "if forest.predict(mother)[0] == 1:\n",
    "    i = 1\n",
    "print('Probability of prediction being right: ', forest.predict_proba(mother)[0][i], '\\n')\n",
    "\n",
    "# Get numerical feature importances\n",
    "importances = list(forest.feature_importances_)\n",
    "# List of tuples with variable and importance\n",
    "feature_importances = [(feature, round(importance, 2)) for feature, importance in zip(columns, importances)]\n",
    "# Sort the feature importances by most important first\n",
    "feature_importances = sorted(feature_importances, key = lambda x: x[1], reverse = True)\n",
    "# Print out the feature and importances\n",
    "[print('Variable: {:20} Importance: {}'.format(*pair)) for pair in feature_importances]"
   ]
  },
  {
   "cell_type": "code",
   "execution_count": null,
   "metadata": {},
   "outputs": [],
   "source": []
  }
 ],
 "metadata": {
  "kernelspec": {
   "display_name": "Python 3",
   "language": "python",
   "name": "python3"
  },
  "language_info": {
   "codemirror_mode": {
    "name": "ipython",
    "version": 3
   },
   "file_extension": ".py",
   "mimetype": "text/x-python",
   "name": "python",
   "nbconvert_exporter": "python",
   "pygments_lexer": "ipython3",
   "version": "3.7.7"
  }
 },
 "nbformat": 4,
 "nbformat_minor": 4
}
